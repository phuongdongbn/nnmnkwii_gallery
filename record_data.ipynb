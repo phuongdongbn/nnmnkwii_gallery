{
 "cells": [
  {
   "cell_type": "code",
   "execution_count": 1,
   "metadata": {},
   "outputs": [],
   "source": [
    "import tkinter as tk\n",
    "from tkinter import *\n",
    "import tkinter.messagebox\n",
    "import pyaudio\n",
    "import wave\n",
    "import os\n",
    "import numpy as np\n",
    "import math\n",
    "import operator"
   ]
  },
  {
   "cell_type": "code",
   "execution_count": 2,
   "metadata": {},
   "outputs": [],
   "source": [
    "CHUNK = 1024\n",
    "FORMAT = pyaudio.paInt16\n",
    "CHANNELS = 2\n",
    "RATE = 44100"
   ]
  },
  {
   "cell_type": "code",
   "execution_count": 3,
   "metadata": {},
   "outputs": [],
   "source": [
    "p = pyaudio.PyAudio()\n",
    "recording = 0\n",
    "frames = []"
   ]
  },
  {
   "cell_type": "code",
   "execution_count": 4,
   "metadata": {},
   "outputs": [],
   "source": [
    "# # import pickle\n",
    "# with open(\"modelHMM.pkl\", \"rb\") as file:\n",
    "#     models = pickle.load(file)"
   ]
  },
  {
   "cell_type": "code",
   "execution_count": 5,
   "metadata": {},
   "outputs": [
    {
     "name": "stderr",
     "output_type": "stream",
     "text": [
      "C:\\Users\\PhuongDong\\miniconda3\\envs\\voice\\lib\\site-packages\\librosa\\util\\decorators.py:9: NumbaDeprecationWarning: \u001b[1mAn import was requested from a module that has moved location.\n",
      "Import requested from: 'numba.decorators', please update to use 'numba.core.decorators' or pin to Numba version 0.48.0. This alias will not be present in Numba version 0.50.0.\u001b[0m\n",
      "  from numba.decorators import jit as optional_jit\n",
      "C:\\Users\\PhuongDong\\miniconda3\\envs\\voice\\lib\\site-packages\\librosa\\util\\decorators.py:9: NumbaDeprecationWarning: \u001b[1mAn import was requested from a module that has moved location.\n",
      "Import of 'jit' requested from: 'numba.decorators', please update to use 'numba.core.decorators' or pin to Numba version 0.48.0. This alias will not be present in Numba version 0.50.0.\u001b[0m\n",
      "  from numba.decorators import jit as optional_jit\n"
     ]
    }
   ],
   "source": [
    "# import functionMFCC as func"
   ]
  },
  {
   "cell_type": "code",
   "execution_count": 5,
   "metadata": {},
   "outputs": [],
   "source": [
    "stream = p.open(format=FORMAT,\n",
    "                channels=CHANNELS,\n",
    "                rate=RATE,\n",
    "                input=True,\n",
    "                frames_per_buffer=CHUNK)"
   ]
  },
  {
   "cell_type": "code",
   "execution_count": 15,
   "metadata": {},
   "outputs": [],
   "source": [
    "# import soundfile as sf\n",
    "# import scipy as sp\n",
    "# import librosa\n",
    "\n",
    "# def trim_silence(y):\n",
    "#     y_trimmed, index = librosa.effects.trim(y, top_db=25, frame_length=25, hop_length=10) \n",
    "#     trimmed_length = librosa.get_duration(y) - librosa.get_duration(y_trimmed)\n",
    "#     return y_trimmed, trimmed_length\n",
    "\n",
    "# def remove_noise():\n",
    "#     y,sr = librosa.load(os.path.join(\"output\", \"voice.wav\"))\n",
    "#     y_reduced_median = sp.signal.medfilt(y,3) # lọc trung vị\n",
    "#     y_reduced_median, time_trimmed = trim_silence(y_reduced_median)\n",
    "#     sf.write(os.path.join(\"output\", \"voice_2.wav\"),y_reduced_median, sr, 'PCM_24')\n",
    "#     print(f\"Remove noise: {librosa.get_duration(y)} (s) -> {librosa.get_duration(y_reduced_median)} (s)\")"
   ]
  },
  {
   "cell_type": "code",
   "execution_count": 13,
   "metadata": {},
   "outputs": [],
   "source": [
    "# text_predicted = {'cua': 'của', 'viet_nam': 'Việt Nam', 'khong': 'không', 'nguoi': 'người', 'nha': 'nhà'}\n",
    "# def predict_voice():\n",
    "#     remove_noise()\n",
    "#     inp = func.get_mfcc(os.path.join(\"output\", \"voice_2.wav\"))\n",
    "#     score = {cname: model.score(inp, [len(inp)]) for cname, model in models.items()}\n",
    "#     print(score)\n",
    "#     text = max([(value, key) for key, value in score.items()])[1]\n",
    "#     outputBox.delete(\"1.0\", END)\n",
    "#     outputBox.insert(END, text_predicted[text])"
   ]
  },
  {
   "cell_type": "code",
   "execution_count": 6,
   "metadata": {},
   "outputs": [],
   "source": [
    "def start_record():\n",
    "    recording = 1\n",
    "    frames.clear()\n",
    "    label['text'] = 'Đang ghi âm'\n",
    "    stream = p.open(format=FORMAT,\n",
    "                channels=CHANNELS,\n",
    "                rate=RATE,\n",
    "                input=True,\n",
    "                frames_per_buffer=CHUNK)\n",
    "    while recording == 1:\n",
    "        data = stream.read(CHUNK)\n",
    "        frames.append(data)\n",
    "        window.update()"
   ]
  },
  {
   "cell_type": "code",
   "execution_count": 7,
   "metadata": {},
   "outputs": [],
   "source": [
    "def stop_record(): \n",
    "    file_name = inputBox.get()\n",
    "    recording = 0\n",
    "    label['text'] = 'Ghi âm xong'\n",
    "    print('* stop recording')\n",
    "    stream.stop_stream()\n",
    "    stream.close()\n",
    "    wf = wave.open('output/' + file_name + '.wav', 'wb')\n",
    "    wf.setnchannels(CHANNELS)\n",
    "    wf.setsampwidth(p.get_sample_size(FORMAT))\n",
    "    wf.setframerate(RATE)\n",
    "    wf.writeframes(b''.join(frames))\n",
    "    wf.close()\n",
    "#     predict_voice()"
   ]
  },
  {
   "cell_type": "code",
   "execution_count": 8,
   "metadata": {},
   "outputs": [],
   "source": [
    "def play_wav():\n",
    "    p_read = pyaudio.PyAudio()\n",
    "    file_name = inputBox.get()\n",
    "    wf_read = wave.open(os.path.join(\"output\", file_name + \".wav\"), 'rb')\n",
    "    stream_read = p_read.open(format =\n",
    "                            p_read.get_format_from_width(wf_read.getsampwidth()),\n",
    "                            channels = wf_read.getnchannels(),\n",
    "                            rate = wf_read.getframerate(),\n",
    "                            output = True)\n",
    "    data = wf_read.readframes(CHUNK)\n",
    "    while data != '':\n",
    "        # writing to the stream is what *actually* plays the sound.\n",
    "        stream_read.write(data)\n",
    "        data = wf_read.readframes(CHUNK)\n",
    "        window.update()\n",
    "    stream_read.close()    \n",
    "    p_read.terminate()"
   ]
  },
  {
   "cell_type": "code",
   "execution_count": 12,
   "metadata": {},
   "outputs": [
    {
     "name": "stdout",
     "output_type": "stream",
     "text": [
      "* stop recording\n",
      "* stop recording\n"
     ]
    },
    {
     "name": "stderr",
     "output_type": "stream",
     "text": [
      "Exception in Tkinter callback\n",
      "Traceback (most recent call last):\n",
      "  File \"C:\\Users\\PhuongDong\\miniconda3\\envs\\voice\\lib\\tkinter\\__init__.py\", line 1705, in __call__\n",
      "    return self.func(*args)\n",
      "  File \"<ipython-input-8-811a4592eb67>\", line 15, in play_wav\n",
      "    window.update()\n",
      "  File \"C:\\Users\\PhuongDong\\miniconda3\\envs\\voice\\lib\\tkinter\\__init__.py\", line 1177, in update\n",
      "    self.tk.call('update')\n",
      "_tkinter.TclError: can't invoke \"update\" command: application has been destroyed\n",
      "Exception in Tkinter callback\n",
      "Traceback (most recent call last):\n",
      "  File \"C:\\Users\\PhuongDong\\miniconda3\\envs\\voice\\lib\\tkinter\\__init__.py\", line 1705, in __call__\n",
      "    return self.func(*args)\n",
      "  File \"<ipython-input-6-91ae551fdff6>\", line 13, in start_record\n",
      "    window.update()\n",
      "  File \"C:\\Users\\PhuongDong\\miniconda3\\envs\\voice\\lib\\tkinter\\__init__.py\", line 1177, in update\n",
      "    self.tk.call('update')\n",
      "_tkinter.TclError: can't invoke \"update\" command: application has been destroyed\n",
      "Exception in Tkinter callback\n",
      "Traceback (most recent call last):\n",
      "  File \"C:\\Users\\PhuongDong\\miniconda3\\envs\\voice\\lib\\tkinter\\__init__.py\", line 1705, in __call__\n",
      "    return self.func(*args)\n",
      "  File \"<ipython-input-6-91ae551fdff6>\", line 13, in start_record\n",
      "    window.update()\n",
      "  File \"C:\\Users\\PhuongDong\\miniconda3\\envs\\voice\\lib\\tkinter\\__init__.py\", line 1177, in update\n",
      "    self.tk.call('update')\n",
      "_tkinter.TclError: can't invoke \"update\" command: application has been destroyed\n"
     ]
    }
   ],
   "source": [
    "window = tk.Tk()\n",
    "window.geometry('500x300')\n",
    "window.title('Predict voice')\n",
    "label_2 = tk.Label(window, text='Nhập tên file trước khi ghi âm')\n",
    "label_2.place(x=130, y=50)\n",
    "inputBox = tk.Entry(window, width=50, bd=1)\n",
    "inputBox.place(x=130, y=70, height=30)\n",
    "button_start = tk.Button(window, text='Ghi âm', width=15, command=start_record)\n",
    "button_start.place(x=130, y=150)\n",
    "button_play = tk.Button(window, text='Ghi âm lại', width=15, command=start_record)\n",
    "button_play.place(x=250, y=150)\n",
    "button_stop = tk.Button(window, text='Dừng ghi âm', width=15, command=stop_record)\n",
    "button_stop.place(x=130, y=200)\n",
    "button_play = tk.Button(window, text='Phát lại', width=15, command=play_wav)\n",
    "button_play.place(x=250, y=200)\n",
    "label = tk.Label(window)\n",
    "label.place(x=220, y=250)\n",
    "window.mainloop()"
   ]
  },
  {
   "cell_type": "code",
   "execution_count": 1,
   "metadata": {},
   "outputs": [
    {
     "name": "stderr",
     "output_type": "stream",
     "text": [
      "C:\\Users\\PhuongDong\\miniconda3\\envs\\voice\\lib\\site-packages\\librosa\\util\\decorators.py:9: NumbaDeprecationWarning: \u001b[1mAn import was requested from a module that has moved location.\n",
      "Import requested from: 'numba.decorators', please update to use 'numba.core.decorators' or pin to Numba version 0.48.0. This alias will not be present in Numba version 0.50.0.\u001b[0m\n",
      "  from numba.decorators import jit as optional_jit\n",
      "C:\\Users\\PhuongDong\\miniconda3\\envs\\voice\\lib\\site-packages\\librosa\\util\\decorators.py:9: NumbaDeprecationWarning: \u001b[1mAn import was requested from a module that has moved location.\n",
      "Import of 'jit' requested from: 'numba.decorators', please update to use 'numba.core.decorators' or pin to Numba version 0.48.0. This alias will not be present in Numba version 0.50.0.\u001b[0m\n",
      "  from numba.decorators import jit as optional_jit\n"
     ]
    }
   ],
   "source": [
    "import librosa"
   ]
  }
 ],
 "metadata": {
  "kernelspec": {
   "display_name": "Python 3",
   "language": "python",
   "name": "python3"
  },
  "language_info": {
   "codemirror_mode": {
    "name": "ipython",
    "version": 3
   },
   "file_extension": ".py",
   "mimetype": "text/x-python",
   "name": "python",
   "nbconvert_exporter": "python",
   "pygments_lexer": "ipython3",
   "version": "3.7.7"
  }
 },
 "nbformat": 4,
 "nbformat_minor": 4
}
